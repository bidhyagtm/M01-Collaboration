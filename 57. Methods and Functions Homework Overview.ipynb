{
 "cells": [
  {
   "cell_type": "code",
   "execution_count": 3,
   "id": "6e269f16",
   "metadata": {},
   "outputs": [
    {
     "data": {
      "text/plain": [
       "33.49333333333333"
      ]
     },
     "execution_count": 3,
     "metadata": {},
     "output_type": "execute_result"
    }
   ],
   "source": [
    "#A function that computes the volume of a sphere given its radius\n",
    "def vol(rad):\n",
    "    return (4/3)*(3.14)*(rad**3)\n",
    "#check\n",
    "vol(2)"
   ]
  },
  {
   "cell_type": "code",
   "execution_count": 9,
   "id": "c4d3f061",
   "metadata": {},
   "outputs": [
    {
     "name": "stdout",
     "output_type": "stream",
     "text": [
      "5 is in range of 2 and 7\n"
     ]
    }
   ],
   "source": [
    "#A function that checks whether a number is in a given range (inclusive of high and low)\n",
    "def ran_check(num,low,high):\n",
    "    if num in range(low,high+1):\n",
    "        print(f'{num} is in range of {low} and {high}')\n",
    "    else:\n",
    "        print (f'{num} is not in a range')\n",
    "#check\n",
    "ran_check(5,2,7)"
   ]
  },
  {
   "cell_type": "code",
   "execution_count": 26,
   "id": "c1459057",
   "metadata": {},
   "outputs": [
    {
     "data": {
      "text/plain": [
       "True"
      ]
     },
     "execution_count": 26,
     "metadata": {},
     "output_type": "execute_result"
    }
   ],
   "source": [
    "def ran_bool(num,low,high):\n",
    "    return num in range(low,high+1)\n",
    "ran_bool(3,1,10)"
   ]
  },
  {
   "cell_type": "code",
   "execution_count": 12,
   "id": "34015f56",
   "metadata": {},
   "outputs": [
    {
     "name": "stdout",
     "output_type": "stream",
     "text": [
      "Original String: Hello Mr. Rogers, how are you this fine Tuesday?\n",
      "No. of Upper case characters: 4\n",
      "No. of Lower case characters: 33\n"
     ]
    }
   ],
   "source": [
    "#A function that accepts a string and calculates the number of upper case letters and lower case letters\n",
    "def up_low(s):\n",
    "    noOfLowerCase=0\n",
    "    noOfUpperCase=0\n",
    "    for c in s:\n",
    "        if c.isupper():\n",
    "            noOfUpperCase+=1\n",
    "        elif c.islower():\n",
    "            noOfLowerCase+=1\n",
    "        else:\n",
    "            pass\n",
    "    print(f'Original String: {s}')\n",
    "    print(f'No. of Upper case characters: {noOfUpperCase}')\n",
    "    print(f'No. of Lower case characters: {noOfLowerCase}')\n",
    "            \n",
    "s='Hello Mr. Rogers, how are you this fine Tuesday?'\n",
    "up_low(s)"
   ]
  },
  {
   "cell_type": "code",
   "execution_count": 14,
   "id": "65bc34b9",
   "metadata": {},
   "outputs": [
    {
     "data": {
      "text/plain": [
       "[1, 2, 3, 4, 5]"
      ]
     },
     "execution_count": 14,
     "metadata": {},
     "output_type": "execute_result"
    }
   ],
   "source": [
    "#A function that takes a list and returns a new list with unique elements of the first list\n",
    "def unique_list(lst):\n",
    "    return list(set(lst))\n",
    "unique_list([1,1,1,1,2,2,3,3,3,3,4,5])"
   ]
  },
  {
   "cell_type": "code",
   "execution_count": 15,
   "id": "f97a65a7",
   "metadata": {},
   "outputs": [
    {
     "data": {
      "text/plain": [
       "-24"
      ]
     },
     "execution_count": 15,
     "metadata": {},
     "output_type": "execute_result"
    }
   ],
   "source": [
    "#A function to multiply all the nubmer in a list\n",
    "def multiply(numbers):\n",
    "    totalOfMultiple=1\n",
    "    for number in numbers:\n",
    "        totalOfMultiple=totalOfMultiple*number\n",
    "    return totalOfMultiple\n",
    "multiply([1,2,3,-4])"
   ]
  },
  {
   "cell_type": "code",
   "execution_count": 29,
   "id": "fc9d978d",
   "metadata": {},
   "outputs": [
    {
     "data": {
      "text/plain": [
       "True"
      ]
     },
     "execution_count": 29,
     "metadata": {},
     "output_type": "execute_result"
    }
   ],
   "source": [
    "#A function that checks whetehr a word or phrase is palindrome or not\n",
    "def palindrome(s):\n",
    "    #removing the space from the given string\n",
    "    s=s.replace(' ','')\n",
    "    #Reversing string using an extended slice\n",
    "    return s==s[::-1]\n",
    "palindrome('helleh')\n",
    "        \n",
    "    "
   ]
  },
  {
   "cell_type": "code",
   "execution_count": 30,
   "id": "dc8ae36c",
   "metadata": {},
   "outputs": [
    {
     "data": {
      "text/plain": [
       "True"
      ]
     },
     "execution_count": 30,
     "metadata": {},
     "output_type": "execute_result"
    }
   ],
   "source": [
    "#A function to check whether a string is pangram or not. (Assume the string passed in does not have any punctuation)\n",
    "import string\n",
    "def ispangram(str1,alphabet=string.ascii_lowercase):\n",
    "    #set of alphabets\n",
    "    alphabets=set(alphabet)\n",
    "    #removing the space from the given string\n",
    "    str1=str1.replace(' ','')\n",
    "    #converting the given string to lowercase\n",
    "    str1=str1.lower()\n",
    "    #getting unique letters from the string set\n",
    "    str1=set(str1)\n",
    "    return str1==alphabets\n",
    "ispangram(\"The quick brown fox jumps over the lazy dog\")"
   ]
  },
  {
   "cell_type": "code",
   "execution_count": 24,
   "id": "3da75eda",
   "metadata": {},
   "outputs": [
    {
     "data": {
      "text/plain": [
       "'abcdefghijklmnopqrstuvwxyz'"
      ]
     },
     "execution_count": 24,
     "metadata": {},
     "output_type": "execute_result"
    }
   ],
   "source": [
    "string.ascii_lowercase"
   ]
  },
  {
   "cell_type": "code",
   "execution_count": null,
   "id": "72ac300f",
   "metadata": {},
   "outputs": [],
   "source": []
  }
 ],
 "metadata": {
  "kernelspec": {
   "display_name": "Python 3 (ipykernel)",
   "language": "python",
   "name": "python3"
  },
  "language_info": {
   "codemirror_mode": {
    "name": "ipython",
    "version": 3
   },
   "file_extension": ".py",
   "mimetype": "text/x-python",
   "name": "python",
   "nbconvert_exporter": "python",
   "pygments_lexer": "ipython3",
   "version": "3.9.13"
  }
 },
 "nbformat": 4,
 "nbformat_minor": 5
}
