{
 "cells": [
  {
   "cell_type": "code",
   "execution_count": 1,
   "id": "466f189c",
   "metadata": {},
   "outputs": [],
   "source": [
    "#13.1\n",
    "from datetime import date\n",
    "#get the current date and time\n",
    "now=date.today()\n",
    "#formatting the date as a string\n",
    "date_str=now.strftime(\"%Y-%m-%d\")\n",
    "#opening the file for writing\n",
    "with open('today.txt','wt') as file:\n",
    "    #writing the date string to the file\n",
    "    file.write(date_str)\n",
    "# got 2023-02-22 in today.txt file"
   ]
  },
  {
   "cell_type": "code",
   "execution_count": 2,
   "id": "bba554fc",
   "metadata": {},
   "outputs": [
    {
     "name": "stdout",
     "output_type": "stream",
     "text": [
      "2023-02-22\n"
     ]
    }
   ],
   "source": [
    "#13.2\n",
    "# Opening the file for reading\n",
    "with open(\"today.txt\", \"r\") as file:\n",
    "    # Reading the contents of the file into a string variable today_string\n",
    "    today_string = file.read()\n",
    "\n",
    "# Print the contents of the string\n",
    "print(today_string)"
   ]
  },
  {
   "cell_type": "code",
   "execution_count": 3,
   "id": "247e453d",
   "metadata": {},
   "outputs": [
    {
     "name": "stdout",
     "output_type": "stream",
     "text": [
      "2023-02-22\n"
     ]
    }
   ],
   "source": [
    "#13.3\n",
    "import datetime\n",
    "\n",
    "# Parsing the date from the string\n",
    "date_object = datetime.datetime.strptime(today_string, \"%Y-%m-%d\").date()\n",
    "\n",
    "# Printing the date object\n",
    "print(date_object)"
   ]
  },
  {
   "cell_type": "code",
   "execution_count": 13,
   "id": "13bb4214",
   "metadata": {},
   "outputs": [],
   "source": [
    "#15.1\n",
    "import multiprocessing\n",
    "import random\n",
    "import time\n",
    "import datetime\n",
    "\n",
    "def print_time():\n",
    "    # Waiting for a random amount of time between 0 and 1 seconds\n",
    "    seconds=random.random()\n",
    "    time.sleep(seconds)\n",
    "\n",
    "    # getting and printing the current time\n",
    "    now = datetime.datetime.now()\n",
    "    print(f\"Waited: {seconds} Current time: {now}\")\n",
    "\n",
    "\n",
    "if __name__ == \"__main__\":\n",
    "    # Creating three processes\n",
    "    for i in range(3):\n",
    "        process = multiprocessing.Process(target=print_time) \n",
    "        # Starting process\n",
    "        process.start()\n",
    "\n",
    "#output\n",
    "#Waited: 0.3159772256162914 Current time: 2023-02-24 09:45:04.723306\n",
    "#Waited: 0.43524960743338814 Current time: 2023-02-24 09:45:04.844338\n",
    "#Waited: 0.4390297522355663 Current time: 2023-02-24 09:45:04.849342\n",
    "   "
   ]
  },
  {
   "cell_type": "code",
   "execution_count": null,
   "id": "5de1d363",
   "metadata": {},
   "outputs": [],
   "source": []
  }
 ],
 "metadata": {
  "kernelspec": {
   "display_name": "Python 3 (ipykernel)",
   "language": "python",
   "name": "python3"
  },
  "language_info": {
   "codemirror_mode": {
    "name": "ipython",
    "version": 3
   },
   "file_extension": ".py",
   "mimetype": "text/x-python",
   "name": "python",
   "nbconvert_exporter": "python",
   "pygments_lexer": "ipython3",
   "version": "3.9.13"
  }
 },
 "nbformat": 4,
 "nbformat_minor": 5
}
